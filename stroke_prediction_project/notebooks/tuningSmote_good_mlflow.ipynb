{
 "cells": [
  {
   "cell_type": "code",
   "execution_count": 47,
   "metadata": {},
   "outputs": [],
   "source": [
    "import pandas as pd\n",
    "import numpy as np\n",
    "from sklearn.model_selection import train_test_split, cross_val_score, StratifiedKFold\n",
    "from sklearn.preprocessing import StandardScaler, OneHotEncoder\n",
    "from sklearn.impute import SimpleImputer\n",
    "from sklearn.compose import ColumnTransformer\n",
    "from sklearn.pipeline import Pipeline\n",
    "from sklearn.metrics import accuracy_score, precision_score, recall_score, f1_score, roc_auc_score, confusion_matrix, roc_curve\n",
    "from sklearn.linear_model import LogisticRegression\n",
    "from sklearn.ensemble import RandomForestClassifier\n",
    "from lightgbm import LGBMClassifier\n",
    "from xgboost import XGBClassifier\n",
    "from catboost import CatBoostClassifier\n",
    "from imblearn.over_sampling import SMOTE\n",
    "from imblearn.pipeline import Pipeline as ImbPipeline\n",
    "import matplotlib.pyplot as plt\n",
    "import optuna\n",
    "import pickle\n",
    "import joblib\n",
    "import mlflow\n",
    "import mlflow.sklearn\n",
    "import warnings\n",
    "warnings.filterwarnings('ignore')"
   ]
  },
  {
   "cell_type": "code",
   "execution_count": 48,
   "metadata": {},
   "outputs": [],
   "source": [
    "# Cargar los datos\n",
    "df = pd.read_csv('stroke_dataset.csv')"
   ]
  },
  {
   "cell_type": "code",
   "execution_count": 49,
   "metadata": {},
   "outputs": [],
   "source": [
    "# Define features\n",
    "cat_cols = ['gender', 'ever_married', 'work_type', 'Residence_type', 'smoking_status']\n",
    "num_cols = ['age', 'hypertension', 'heart_disease', 'avg_glucose_level', 'bmi']\n",
    "\n",
    "# Pre-processing\n",
    "preprocessor = ColumnTransformer(\n",
    "    transformers=[\n",
    "        ('num', StandardScaler(), num_cols),\n",
    "        ('cat', OneHotEncoder(handle_unknown='ignore'), cat_cols)\n",
    "    ])\n"
   ]
  },
  {
   "cell_type": "code",
   "execution_count": 50,
   "metadata": {},
   "outputs": [],
   "source": [
    "# Separar características y objetivo\n",
    "X = df[cat_cols + num_cols]\n",
    "y = df['stroke']"
   ]
  },
  {
   "cell_type": "code",
   "execution_count": 51,
   "metadata": {},
   "outputs": [],
   "source": [
    "# Dividir en conjuntos de entrenamiento y prueba\n",
    "X_train, X_test, y_train, y_test = train_test_split(X, y, test_size=0.2, random_state=42)"
   ]
  },
  {
   "cell_type": "code",
   "execution_count": 52,
   "metadata": {},
   "outputs": [],
   "source": [
    "# Función para crear el pipeline con SMOTE\n",
    "def create_pipeline(classifier):\n",
    "    return ImbPipeline([\n",
    "        ('preprocessor', preprocessor), # preprocesamiento\n",
    "        ('smote', SMOTE(random_state=42)), # Synthetic Minority Over-sampling Technique\n",
    "        ('classifier', classifier) # clasificador\n",
    "    ])"
   ]
  },
  {
   "cell_type": "code",
   "execution_count": 53,
   "metadata": {},
   "outputs": [],
   "source": [
    "# Función para evaluar el modelo\n",
    "def evaluate_model(y_true, y_pred, y_pred_proba):\n",
    "    return {\n",
    "        'accuracy': accuracy_score(y_true, y_pred),\n",
    "        'precision': precision_score(y_true, y_pred),\n",
    "        'recall': recall_score(y_true, y_pred),\n",
    "        'f1': f1_score(y_true, y_pred),\n",
    "        'auc': roc_auc_score(y_true, y_pred_proba)\n",
    "    }"
   ]
  },
  {
   "cell_type": "code",
   "execution_count": 54,
   "metadata": {},
   "outputs": [],
   "source": [
    "# Diccionario de modelos\n",
    "models = {\n",
    "    'Logistic Regression': LogisticRegression(),\n",
    "    'Random Forest': RandomForestClassifier(),\n",
    "    'LightGBM': LGBMClassifier(),\n",
    "    'XGBoost': XGBClassifier(),\n",
    "    'CatBoost': CatBoostClassifier(verbose=0)\n",
    "}"
   ]
  },
  {
   "cell_type": "code",
   "execution_count": 55,
   "metadata": {},
   "outputs": [
    {
     "name": "stderr",
     "output_type": "stream",
     "text": [
      "DEBUG:urllib3.connectionpool:Starting new HTTP connection (1): localhost:5000\n",
      "DEBUG:urllib3.connectionpool:http://localhost:5000 \"GET / HTTP/11\" 200 645\n",
      "DEBUG:urllib3.connectionpool:Resetting dropped connection: localhost\n",
      "DEBUG:urllib3.connectionpool:http://localhost:5000 \"POST /api/2.0/mlflow/runs/create HTTP/11\" 200 1014\n",
      "DEBUG:urllib3.connectionpool:Resetting dropped connection: localhost\n",
      "DEBUG:urllib3.connectionpool:http://localhost:5000 \"POST /api/2.0/mlflow/runs/log-batch HTTP/11\" 200 2\n",
      "DEBUG:urllib3.connectionpool:Resetting dropped connection: localhost\n",
      "DEBUG:urllib3.connectionpool:http://localhost:5000 \"POST /api/2.0/mlflow/runs/log-batch HTTP/11\" 200 2\n"
     ]
    },
    {
     "name": "stdout",
     "output_type": "stream",
     "text": [
      "MLflow server is running.\n",
      "Parameters logged successfully.\n",
      "Metrics logged for Logistic Regression.\n",
      "\n",
      "Logistic Regression:\n",
      "accuracy: 0.7462\n",
      "precision: 0.1509\n",
      "recall: 0.7963\n",
      "f1: 0.2537\n",
      "auc: 0.8481\n"
     ]
    },
    {
     "name": "stderr",
     "output_type": "stream",
     "text": [
      "DEBUG:urllib3.connectionpool:Resetting dropped connection: localhost\n",
      "DEBUG:urllib3.connectionpool:http://localhost:5000 \"POST /api/2.0/mlflow/runs/log-batch HTTP/11\" 400 254\n"
     ]
    },
    {
     "name": "stdout",
     "output_type": "stream",
     "text": [
      "Attempt 1 failed: INVALID_PARAMETER_VALUE: Changing param values is not allowed. Params were already logged='[{'key': 'model', 'old_value': 'Logistic Regression', 'new_value': 'Random Forest'}]' for run ID='b4a677b930c0459abe7e706da2a3eef3'.\n"
     ]
    },
    {
     "name": "stderr",
     "output_type": "stream",
     "text": [
      "DEBUG:urllib3.connectionpool:Resetting dropped connection: localhost\n",
      "DEBUG:urllib3.connectionpool:http://localhost:5000 \"POST /api/2.0/mlflow/runs/log-batch HTTP/11\" 400 254\n"
     ]
    },
    {
     "name": "stdout",
     "output_type": "stream",
     "text": [
      "Attempt 2 failed: INVALID_PARAMETER_VALUE: Changing param values is not allowed. Params were already logged='[{'key': 'model', 'old_value': 'Logistic Regression', 'new_value': 'Random Forest'}]' for run ID='b4a677b930c0459abe7e706da2a3eef3'.\n"
     ]
    },
    {
     "name": "stderr",
     "output_type": "stream",
     "text": [
      "DEBUG:urllib3.connectionpool:Resetting dropped connection: localhost\n",
      "DEBUG:urllib3.connectionpool:http://localhost:5000 \"POST /api/2.0/mlflow/runs/log-batch HTTP/11\" 400 254\n"
     ]
    },
    {
     "name": "stdout",
     "output_type": "stream",
     "text": [
      "Attempt 3 failed: INVALID_PARAMETER_VALUE: Changing param values is not allowed. Params were already logged='[{'key': 'model', 'old_value': 'Logistic Regression', 'new_value': 'Random Forest'}]' for run ID='b4a677b930c0459abe7e706da2a3eef3'.\n"
     ]
    },
    {
     "name": "stderr",
     "output_type": "stream",
     "text": [
      "DEBUG:urllib3.connectionpool:Resetting dropped connection: localhost\n",
      "DEBUG:urllib3.connectionpool:http://localhost:5000 \"POST /api/2.0/mlflow/runs/log-batch HTTP/11\" 400 254\n"
     ]
    },
    {
     "name": "stdout",
     "output_type": "stream",
     "text": [
      "Attempt 4 failed: INVALID_PARAMETER_VALUE: Changing param values is not allowed. Params were already logged='[{'key': 'model', 'old_value': 'Logistic Regression', 'new_value': 'Random Forest'}]' for run ID='b4a677b930c0459abe7e706da2a3eef3'.\n"
     ]
    },
    {
     "name": "stderr",
     "output_type": "stream",
     "text": [
      "DEBUG:urllib3.connectionpool:Resetting dropped connection: localhost\n",
      "DEBUG:urllib3.connectionpool:http://localhost:5000 \"POST /api/2.0/mlflow/runs/log-batch HTTP/11\" 400 254\n",
      "DEBUG:urllib3.connectionpool:Resetting dropped connection: localhost\n",
      "DEBUG:urllib3.connectionpool:http://localhost:5000 \"POST /api/2.0/mlflow/runs/log-batch HTTP/11\" 200 2\n"
     ]
    },
    {
     "name": "stdout",
     "output_type": "stream",
     "text": [
      "Attempt 5 failed: INVALID_PARAMETER_VALUE: Changing param values is not allowed. Params were already logged='[{'key': 'model', 'old_value': 'Logistic Regression', 'new_value': 'Random Forest'}]' for run ID='b4a677b930c0459abe7e706da2a3eef3'.\n",
      "Max retries exceeded. Failed to log parameters.\n",
      "Metrics logged for Random Forest.\n",
      "\n",
      "Random Forest:\n",
      "accuracy: 0.9097\n",
      "precision: 0.0263\n",
      "recall: 0.0185\n",
      "f1: 0.0217\n",
      "auc: 0.7717\n",
      "[LightGBM] [Info] Number of positive: 3790, number of negative: 3790\n",
      "[LightGBM] [Info] Auto-choosing col-wise multi-threading, the overhead of testing was 0.000908 seconds.\n",
      "You can set `force_col_wise=true` to remove the overhead.\n",
      "[LightGBM] [Info] Total Bins 4100\n",
      "[LightGBM] [Info] Number of data points in the train set: 7580, number of used features: 19\n",
      "[LightGBM] [Info] [binary:BoostFromScore]: pavg=0.500000 -> initscore=0.000000\n"
     ]
    },
    {
     "name": "stderr",
     "output_type": "stream",
     "text": [
      "DEBUG:urllib3.connectionpool:Resetting dropped connection: localhost\n",
      "DEBUG:urllib3.connectionpool:http://localhost:5000 \"POST /api/2.0/mlflow/runs/log-batch HTTP/11\" 400 249\n"
     ]
    },
    {
     "name": "stdout",
     "output_type": "stream",
     "text": [
      "Attempt 1 failed: INVALID_PARAMETER_VALUE: Changing param values is not allowed. Params were already logged='[{'key': 'model', 'old_value': 'Logistic Regression', 'new_value': 'LightGBM'}]' for run ID='b4a677b930c0459abe7e706da2a3eef3'.\n"
     ]
    },
    {
     "name": "stderr",
     "output_type": "stream",
     "text": [
      "DEBUG:urllib3.connectionpool:Resetting dropped connection: localhost\n",
      "DEBUG:urllib3.connectionpool:http://localhost:5000 \"POST /api/2.0/mlflow/runs/log-batch HTTP/11\" 400 249\n"
     ]
    },
    {
     "name": "stdout",
     "output_type": "stream",
     "text": [
      "Attempt 2 failed: INVALID_PARAMETER_VALUE: Changing param values is not allowed. Params were already logged='[{'key': 'model', 'old_value': 'Logistic Regression', 'new_value': 'LightGBM'}]' for run ID='b4a677b930c0459abe7e706da2a3eef3'.\n"
     ]
    },
    {
     "name": "stderr",
     "output_type": "stream",
     "text": [
      "DEBUG:urllib3.connectionpool:Resetting dropped connection: localhost\n",
      "DEBUG:urllib3.connectionpool:http://localhost:5000 \"POST /api/2.0/mlflow/runs/log-batch HTTP/11\" 400 249\n"
     ]
    },
    {
     "name": "stdout",
     "output_type": "stream",
     "text": [
      "Attempt 3 failed: INVALID_PARAMETER_VALUE: Changing param values is not allowed. Params were already logged='[{'key': 'model', 'old_value': 'Logistic Regression', 'new_value': 'LightGBM'}]' for run ID='b4a677b930c0459abe7e706da2a3eef3'.\n"
     ]
    },
    {
     "name": "stderr",
     "output_type": "stream",
     "text": [
      "DEBUG:urllib3.connectionpool:Resetting dropped connection: localhost\n",
      "DEBUG:urllib3.connectionpool:http://localhost:5000 \"POST /api/2.0/mlflow/runs/log-batch HTTP/11\" 400 249\n"
     ]
    },
    {
     "name": "stdout",
     "output_type": "stream",
     "text": [
      "Attempt 4 failed: INVALID_PARAMETER_VALUE: Changing param values is not allowed. Params were already logged='[{'key': 'model', 'old_value': 'Logistic Regression', 'new_value': 'LightGBM'}]' for run ID='b4a677b930c0459abe7e706da2a3eef3'.\n"
     ]
    },
    {
     "name": "stderr",
     "output_type": "stream",
     "text": [
      "DEBUG:urllib3.connectionpool:Resetting dropped connection: localhost\n",
      "DEBUG:urllib3.connectionpool:http://localhost:5000 \"POST /api/2.0/mlflow/runs/log-batch HTTP/11\" 400 249\n",
      "DEBUG:urllib3.connectionpool:Resetting dropped connection: localhost\n",
      "DEBUG:urllib3.connectionpool:http://localhost:5000 \"POST /api/2.0/mlflow/runs/log-batch HTTP/11\" 200 2\n"
     ]
    },
    {
     "name": "stdout",
     "output_type": "stream",
     "text": [
      "Attempt 5 failed: INVALID_PARAMETER_VALUE: Changing param values is not allowed. Params were already logged='[{'key': 'model', 'old_value': 'Logistic Regression', 'new_value': 'LightGBM'}]' for run ID='b4a677b930c0459abe7e706da2a3eef3'.\n",
      "Max retries exceeded. Failed to log parameters.\n",
      "Metrics logged for LightGBM.\n",
      "\n",
      "LightGBM:\n",
      "accuracy: 0.9107\n",
      "precision: 0.0513\n",
      "recall: 0.0370\n",
      "f1: 0.0430\n",
      "auc: 0.7765\n"
     ]
    },
    {
     "name": "stderr",
     "output_type": "stream",
     "text": [
      "DEBUG:urllib3.connectionpool:Resetting dropped connection: localhost\n",
      "DEBUG:urllib3.connectionpool:http://localhost:5000 \"POST /api/2.0/mlflow/runs/log-batch HTTP/11\" 400 248\n"
     ]
    },
    {
     "name": "stdout",
     "output_type": "stream",
     "text": [
      "Attempt 1 failed: INVALID_PARAMETER_VALUE: Changing param values is not allowed. Params were already logged='[{'key': 'model', 'old_value': 'Logistic Regression', 'new_value': 'XGBoost'}]' for run ID='b4a677b930c0459abe7e706da2a3eef3'.\n"
     ]
    },
    {
     "name": "stderr",
     "output_type": "stream",
     "text": [
      "DEBUG:urllib3.connectionpool:Resetting dropped connection: localhost\n",
      "DEBUG:urllib3.connectionpool:http://localhost:5000 \"POST /api/2.0/mlflow/runs/log-batch HTTP/11\" 400 248\n"
     ]
    },
    {
     "name": "stdout",
     "output_type": "stream",
     "text": [
      "Attempt 2 failed: INVALID_PARAMETER_VALUE: Changing param values is not allowed. Params were already logged='[{'key': 'model', 'old_value': 'Logistic Regression', 'new_value': 'XGBoost'}]' for run ID='b4a677b930c0459abe7e706da2a3eef3'.\n"
     ]
    },
    {
     "name": "stderr",
     "output_type": "stream",
     "text": [
      "DEBUG:urllib3.connectionpool:Resetting dropped connection: localhost\n",
      "DEBUG:urllib3.connectionpool:http://localhost:5000 \"POST /api/2.0/mlflow/runs/log-batch HTTP/11\" 400 248\n"
     ]
    },
    {
     "name": "stdout",
     "output_type": "stream",
     "text": [
      "Attempt 3 failed: INVALID_PARAMETER_VALUE: Changing param values is not allowed. Params were already logged='[{'key': 'model', 'old_value': 'Logistic Regression', 'new_value': 'XGBoost'}]' for run ID='b4a677b930c0459abe7e706da2a3eef3'.\n"
     ]
    },
    {
     "name": "stderr",
     "output_type": "stream",
     "text": [
      "DEBUG:urllib3.connectionpool:Resetting dropped connection: localhost\n",
      "DEBUG:urllib3.connectionpool:http://localhost:5000 \"POST /api/2.0/mlflow/runs/log-batch HTTP/11\" 400 248\n"
     ]
    },
    {
     "name": "stdout",
     "output_type": "stream",
     "text": [
      "Attempt 4 failed: INVALID_PARAMETER_VALUE: Changing param values is not allowed. Params were already logged='[{'key': 'model', 'old_value': 'Logistic Regression', 'new_value': 'XGBoost'}]' for run ID='b4a677b930c0459abe7e706da2a3eef3'.\n"
     ]
    },
    {
     "name": "stderr",
     "output_type": "stream",
     "text": [
      "DEBUG:urllib3.connectionpool:Resetting dropped connection: localhost\n",
      "DEBUG:urllib3.connectionpool:http://localhost:5000 \"POST /api/2.0/mlflow/runs/log-batch HTTP/11\" 400 248\n",
      "DEBUG:urllib3.connectionpool:Resetting dropped connection: localhost\n",
      "DEBUG:urllib3.connectionpool:http://localhost:5000 \"POST /api/2.0/mlflow/runs/log-batch HTTP/11\" 200 2\n"
     ]
    },
    {
     "name": "stdout",
     "output_type": "stream",
     "text": [
      "Attempt 5 failed: INVALID_PARAMETER_VALUE: Changing param values is not allowed. Params were already logged='[{'key': 'model', 'old_value': 'Logistic Regression', 'new_value': 'XGBoost'}]' for run ID='b4a677b930c0459abe7e706da2a3eef3'.\n",
      "Max retries exceeded. Failed to log parameters.\n",
      "Metrics logged for XGBoost.\n",
      "\n",
      "XGBoost:\n",
      "accuracy: 0.9147\n",
      "precision: 0.1220\n",
      "recall: 0.0926\n",
      "f1: 0.1053\n",
      "auc: 0.7722\n"
     ]
    },
    {
     "name": "stderr",
     "output_type": "stream",
     "text": [
      "DEBUG:urllib3.connectionpool:Resetting dropped connection: localhost\n",
      "DEBUG:urllib3.connectionpool:http://localhost:5000 \"POST /api/2.0/mlflow/runs/log-batch HTTP/11\" 400 249\n"
     ]
    },
    {
     "name": "stdout",
     "output_type": "stream",
     "text": [
      "Attempt 1 failed: INVALID_PARAMETER_VALUE: Changing param values is not allowed. Params were already logged='[{'key': 'model', 'old_value': 'Logistic Regression', 'new_value': 'CatBoost'}]' for run ID='b4a677b930c0459abe7e706da2a3eef3'.\n"
     ]
    },
    {
     "name": "stderr",
     "output_type": "stream",
     "text": [
      "DEBUG:urllib3.connectionpool:Resetting dropped connection: localhost\n",
      "DEBUG:urllib3.connectionpool:http://localhost:5000 \"POST /api/2.0/mlflow/runs/log-batch HTTP/11\" 400 249\n"
     ]
    },
    {
     "name": "stdout",
     "output_type": "stream",
     "text": [
      "Attempt 2 failed: INVALID_PARAMETER_VALUE: Changing param values is not allowed. Params were already logged='[{'key': 'model', 'old_value': 'Logistic Regression', 'new_value': 'CatBoost'}]' for run ID='b4a677b930c0459abe7e706da2a3eef3'.\n"
     ]
    },
    {
     "name": "stderr",
     "output_type": "stream",
     "text": [
      "DEBUG:urllib3.connectionpool:Resetting dropped connection: localhost\n",
      "DEBUG:urllib3.connectionpool:http://localhost:5000 \"POST /api/2.0/mlflow/runs/log-batch HTTP/11\" 400 249\n"
     ]
    },
    {
     "name": "stdout",
     "output_type": "stream",
     "text": [
      "Attempt 3 failed: INVALID_PARAMETER_VALUE: Changing param values is not allowed. Params were already logged='[{'key': 'model', 'old_value': 'Logistic Regression', 'new_value': 'CatBoost'}]' for run ID='b4a677b930c0459abe7e706da2a3eef3'.\n"
     ]
    },
    {
     "name": "stderr",
     "output_type": "stream",
     "text": [
      "DEBUG:urllib3.connectionpool:Resetting dropped connection: localhost\n",
      "DEBUG:urllib3.connectionpool:http://localhost:5000 \"POST /api/2.0/mlflow/runs/log-batch HTTP/11\" 400 249\n"
     ]
    },
    {
     "name": "stdout",
     "output_type": "stream",
     "text": [
      "Attempt 4 failed: INVALID_PARAMETER_VALUE: Changing param values is not allowed. Params were already logged='[{'key': 'model', 'old_value': 'Logistic Regression', 'new_value': 'CatBoost'}]' for run ID='b4a677b930c0459abe7e706da2a3eef3'.\n"
     ]
    },
    {
     "name": "stderr",
     "output_type": "stream",
     "text": [
      "DEBUG:urllib3.connectionpool:Resetting dropped connection: localhost\n",
      "DEBUG:urllib3.connectionpool:http://localhost:5000 \"POST /api/2.0/mlflow/runs/log-batch HTTP/11\" 400 249\n",
      "DEBUG:urllib3.connectionpool:Resetting dropped connection: localhost\n",
      "DEBUG:urllib3.connectionpool:http://localhost:5000 \"POST /api/2.0/mlflow/runs/log-batch HTTP/11\" 200 2\n",
      "DEBUG:urllib3.connectionpool:Resetting dropped connection: localhost\n",
      "DEBUG:urllib3.connectionpool:http://localhost:5000 \"GET /api/2.0/mlflow/runs/get?run_uuid=b4a677b930c0459abe7e706da2a3eef3&run_id=b4a677b930c0459abe7e706da2a3eef3 HTTP/11\" 200 1899\n",
      "2024/10/16 18:26:26 INFO mlflow.tracking._tracking_service.client: 🏃 View run youthful-boar-577 at: http://localhost:5000/#/experiments/0/runs/b4a677b930c0459abe7e706da2a3eef3.\n",
      "2024/10/16 18:26:26 INFO mlflow.tracking._tracking_service.client: 🧪 View experiment at: http://localhost:5000/#/experiments/0.\n",
      "DEBUG:urllib3.connectionpool:Resetting dropped connection: localhost\n",
      "DEBUG:urllib3.connectionpool:http://localhost:5000 \"POST /api/2.0/mlflow/runs/update HTTP/11\" 200 508\n"
     ]
    },
    {
     "name": "stdout",
     "output_type": "stream",
     "text": [
      "Attempt 5 failed: INVALID_PARAMETER_VALUE: Changing param values is not allowed. Params were already logged='[{'key': 'model', 'old_value': 'Logistic Regression', 'new_value': 'CatBoost'}]' for run ID='b4a677b930c0459abe7e706da2a3eef3'.\n",
      "Max retries exceeded. Failed to log parameters.\n",
      "Metrics logged for CatBoost.\n",
      "\n",
      "CatBoost:\n",
      "accuracy: 0.9147\n",
      "precision: 0.0811\n",
      "recall: 0.0556\n",
      "f1: 0.0659\n",
      "auc: 0.7578\n",
      "\n",
      "Best model: Logistic Regression with AUC = 0.8481\n"
     ]
    }
   ],
   "source": [
    "import logging\n",
    "import time\n",
    "import requests\n",
    "import mlflow\n",
    "\n",
    "# Configuración del registro\n",
    "# logging.basicConfig(level=logging.DEBUG)  # Esto te dará más detalles sobre lo que está sucediendo\n",
    "\n",
    "# Establecer la URI de seguimiento de MLflow\n",
    "mlflow.set_tracking_uri(\"http://localhost:5000\")  # Asegúrate de que la URI sea correcta\n",
    "\n",
    "# Verificar si el servidor MLflow está en funcionamiento\n",
    "try:\n",
    "    response = requests.get(\"http://localhost:5000\")\n",
    "    if response.status_code == 200:\n",
    "        print(\"MLflow server is running.\")\n",
    "    else:\n",
    "        print(f\"MLflow server returned status code {response.status_code}.\")\n",
    "except requests.ConnectionError:\n",
    "    print(\"Failed to connect to the MLflow server.\")\n",
    "\n",
    "# Función para registrar parámetros con reintentos\n",
    "def log_params_with_retry(params, max_retries=5, delay=2):\n",
    "    for attempt in range(max_retries):\n",
    "        try:\n",
    "            mlflow.log_params(params)\n",
    "            print(\"Parameters logged successfully.\")\n",
    "            break\n",
    "        except mlflow.exceptions.MlflowException as e:\n",
    "            print(f\"Attempt {attempt + 1} failed: {e}\")\n",
    "            if attempt < max_retries - 1:\n",
    "                time.sleep(delay)\n",
    "            else:\n",
    "                print(\"Max retries exceeded. Failed to log parameters.\")\n",
    "\n",
    "# Iniciar un nuevo experimento\n",
    "with mlflow.start_run():\n",
    "    # Entrenar y evaluar modelos\n",
    "    results = {}\n",
    "    best_model = None\n",
    "    best_auc = 0\n",
    "\n",
    "    for name, model in models.items():\n",
    "        # Crear y ajustar el pipeline\n",
    "        pipeline = create_pipeline(model)\n",
    "        pipeline.fit(X_train, y_train)\n",
    "        y_pred = pipeline.predict(X_test)\n",
    "        y_pred_proba = pipeline.predict_proba(X_test)[:, 1]\n",
    "\n",
    "        # Evaluar el modelo y almacenar métricas\n",
    "        metrics = evaluate_model(y_test, y_pred, y_pred_proba)\n",
    "        results[name] = metrics\n",
    "        \n",
    "        # Registrar parámetros y métricas en MLflow\n",
    "        params = {\"model\": name}\n",
    "        log_params_with_retry(params)\n",
    "\n",
    "        # Intentar registrar métricas\n",
    "        try:\n",
    "            mlflow.log_metrics(metrics)\n",
    "            print(f\"Metrics logged for {name}.\")\n",
    "        except mlflow.exceptions.MlflowException as e:\n",
    "            print(f\"Failed to log metrics for {name}: {e}\")\n",
    "\n",
    "        # Imprimir métricas\n",
    "        print(f\"\\n{name}:\")\n",
    "        for metric, value in metrics.items():\n",
    "            print(f\"{metric}: {value:.4f}\")\n",
    "\n",
    "        # Actualizar el mejor modelo\n",
    "        if metrics['auc'] > best_auc:\n",
    "            best_auc = metrics['auc']\n",
    "            best_model = (name, pipeline)\n",
    "\n",
    "    print(f\"\\nBest model: {best_model[0]} with AUC = {best_auc:.4f}\")\n"
   ]
  },
  {
   "cell_type": "code",
   "execution_count": 56,
   "metadata": {},
   "outputs": [
    {
     "name": "stderr",
     "output_type": "stream",
     "text": [
      "[I 2024-10-16 18:26:26,159] A new study created in memory with name: no-name-96b30988-2f77-4503-a765-d17d3a45a5d9\n",
      "[I 2024-10-16 18:26:26,387] Trial 0 finished with value: 0.8139816763341272 and parameters: {'solver': 'liblinear', 'penalty': 'l2', 'C': 2.1001024862465064e-05}. Best is trial 0 with value: 0.8139816763341272.\n",
      "[I 2024-10-16 18:26:26,600] Trial 1 finished with value: 0.8321417253301714 and parameters: {'solver': 'liblinear', 'penalty': 'l1', 'C': 0.0008741582994619109}. Best is trial 1 with value: 0.8321417253301714.\n",
      "[I 2024-10-16 18:26:26,897] Trial 2 finished with value: 0.8266410648093748 and parameters: {'solver': 'lbfgs', 'C': 0.14762957368284835}. Best is trial 1 with value: 0.8321417253301714.\n",
      "[I 2024-10-16 18:26:27,174] Trial 3 finished with value: 0.8260677826085407 and parameters: {'solver': 'liblinear', 'penalty': 'l2', 'C': 1.382334661085976}. Best is trial 1 with value: 0.8321417253301714.\n",
      "[I 2024-10-16 18:26:27,392] Trial 4 finished with value: 0.8136679734652239 and parameters: {'solver': 'lbfgs', 'C': 1.6003650262145937e-05}. Best is trial 1 with value: 0.8321417253301714.\n",
      "[I 2024-10-16 18:26:27,663] Trial 5 finished with value: 0.8275383760802452 and parameters: {'solver': 'lbfgs', 'C': 0.027421900075117252}. Best is trial 1 with value: 0.8321417253301714.\n",
      "[I 2024-10-16 18:26:27,934] Trial 6 finished with value: 0.8259109311740891 and parameters: {'solver': 'lbfgs', 'C': 88.26417694051972}. Best is trial 1 with value: 0.8321417253301714.\n",
      "[I 2024-10-16 18:26:29,449] Trial 7 finished with value: 0.8261827951246087 and parameters: {'solver': 'liblinear', 'penalty': 'l1', 'C': 2.1668520517045766}. Best is trial 1 with value: 0.8321417253301714.\n",
      "[I 2024-10-16 18:26:29,723] Trial 8 finished with value: 0.8259041657319675 and parameters: {'solver': 'lbfgs', 'C': 43949.89180725881}. Best is trial 1 with value: 0.8321417253301714.\n",
      "[I 2024-10-16 18:26:30,008] Trial 9 finished with value: 0.8259641645213094 and parameters: {'solver': 'liblinear', 'penalty': 'l2', 'C': 2802.352169700173}. Best is trial 1 with value: 0.8321417253301714.\n",
      "[I 2024-10-16 18:26:30,225] Trial 10 finished with value: 0.8321417253301714 and parameters: {'solver': 'liblinear', 'penalty': 'l1', 'C': 0.0006329028969024657}. Best is trial 1 with value: 0.8321417253301714.\n",
      "[I 2024-10-16 18:26:30,443] Trial 11 finished with value: 0.8321417253301714 and parameters: {'solver': 'liblinear', 'penalty': 'l1', 'C': 0.0013868009988226803}. Best is trial 1 with value: 0.8321417253301714.\n",
      "[I 2024-10-16 18:26:30,668] Trial 12 finished with value: 0.8321417253301714 and parameters: {'solver': 'liblinear', 'penalty': 'l1', 'C': 0.0013328118609859428}. Best is trial 1 with value: 0.8321417253301714.\n",
      "[I 2024-10-16 18:26:30,888] Trial 13 finished with value: 0.8321417253301714 and parameters: {'solver': 'liblinear', 'penalty': 'l1', 'C': 0.0014844148413287077}. Best is trial 1 with value: 0.8321417253301714.\n",
      "[I 2024-10-16 18:26:31,119] Trial 14 finished with value: 0.5 and parameters: {'solver': 'liblinear', 'penalty': 'l1', 'C': 0.0002837779583527883}. Best is trial 1 with value: 0.8321417253301714.\n",
      "[I 2024-10-16 18:26:31,417] Trial 15 finished with value: 0.8343363991468422 and parameters: {'solver': 'liblinear', 'penalty': 'l1', 'C': 0.026265416710760964}. Best is trial 15 with value: 0.8343363991468422.\n",
      "[I 2024-10-16 18:26:31,707] Trial 16 finished with value: 0.8333196244111395 and parameters: {'solver': 'liblinear', 'penalty': 'l1', 'C': 0.03359036882389027}. Best is trial 15 with value: 0.8343363991468422.\n",
      "[I 2024-10-16 18:26:32,455] Trial 17 finished with value: 0.8259844608476742 and parameters: {'solver': 'liblinear', 'penalty': 'l1', 'C': 31.019578465163246}. Best is trial 15 with value: 0.8343363991468422.\n",
      "[I 2024-10-16 18:26:32,769] Trial 18 finished with value: 0.8310576522491534 and parameters: {'solver': 'liblinear', 'penalty': 'l1', 'C': 0.05846278370731098}. Best is trial 15 with value: 0.8343363991468422.\n",
      "[I 2024-10-16 18:26:33,028] Trial 19 finished with value: 0.8285083268349481 and parameters: {'solver': 'liblinear', 'penalty': 'l2', 'C': 0.014472188411745844}. Best is trial 15 with value: 0.8343363991468422.\n",
      "[I 2024-10-16 18:26:34,069] Trial 20 finished with value: 0.8260188221721341 and parameters: {'solver': 'liblinear', 'penalty': 'l1', 'C': 8.409000178820882}. Best is trial 15 with value: 0.8343363991468422.\n",
      "[I 2024-10-16 18:26:34,321] Trial 21 finished with value: 0.8381031480670419 and parameters: {'solver': 'liblinear', 'penalty': 'l1', 'C': 0.009651551486309065}. Best is trial 21 with value: 0.8381031480670419.\n",
      "[I 2024-10-16 18:26:34,848] Trial 22 finished with value: 0.8272777285206114 and parameters: {'solver': 'liblinear', 'penalty': 'l1', 'C': 0.36153515688311144}. Best is trial 21 with value: 0.8381031480670419.\n",
      "[I 2024-10-16 18:26:35,099] Trial 23 finished with value: 0.8382870612699802 and parameters: {'solver': 'liblinear', 'penalty': 'l1', 'C': 0.008357812536998029}. Best is trial 23 with value: 0.8382870612699802.\n",
      "[I 2024-10-16 18:26:35,347] Trial 24 finished with value: 0.8382672990574672 and parameters: {'solver': 'liblinear', 'penalty': 'l1', 'C': 0.00794990709318081}. Best is trial 23 with value: 0.8382870612699802.\n",
      "[I 2024-10-16 18:26:35,555] Trial 25 finished with value: 0.5 and parameters: {'solver': 'liblinear', 'penalty': 'l1', 'C': 0.00010552504969505173}. Best is trial 23 with value: 0.8382870612699802.\n",
      "[I 2024-10-16 18:26:35,826] Trial 26 finished with value: 0.8284672000683665 and parameters: {'solver': 'lbfgs', 'C': 0.012454323077781132}. Best is trial 23 with value: 0.8382870612699802.\n",
      "[I 2024-10-16 18:26:36,064] Trial 27 finished with value: 0.8373274367164104 and parameters: {'solver': 'liblinear', 'penalty': 'l1', 'C': 0.004668214271097361}. Best is trial 23 with value: 0.8382870612699802.\n",
      "[I 2024-10-16 18:26:36,273] Trial 28 finished with value: 0.5 and parameters: {'solver': 'liblinear', 'penalty': 'l1', 'C': 5.720557905105824e-05}. Best is trial 23 with value: 0.8382870612699802.\n",
      "[I 2024-10-16 18:26:36,548] Trial 29 finished with value: 0.8264954297658089 and parameters: {'solver': 'liblinear', 'penalty': 'l2', 'C': 0.2413669681163179}. Best is trial 23 with value: 0.8382870612699802.\n",
      "[I 2024-10-16 18:26:36,790] Trial 30 finished with value: 0.8381864698279087 and parameters: {'solver': 'liblinear', 'penalty': 'l1', 'C': 0.00624738649177914}. Best is trial 23 with value: 0.8382870612699802.\n",
      "[I 2024-10-16 18:26:37,034] Trial 31 finished with value: 0.838301660381927 and parameters: {'solver': 'liblinear', 'penalty': 'l1', 'C': 0.006662384008119708}. Best is trial 31 with value: 0.838301660381927.\n",
      "[I 2024-10-16 18:26:37,269] Trial 32 finished with value: 0.8367570031227857 and parameters: {'solver': 'liblinear', 'penalty': 'l1', 'C': 0.0040271967728664}. Best is trial 31 with value: 0.838301660381927.\n",
      "[I 2024-10-16 18:26:37,478] Trial 33 finished with value: 0.5 and parameters: {'solver': 'liblinear', 'penalty': 'l1', 'C': 0.00010938011793977126}. Best is trial 31 with value: 0.838301660381927.\n",
      "[I 2024-10-16 18:26:37,819] Trial 34 finished with value: 0.8292653442007698 and parameters: {'solver': 'liblinear', 'penalty': 'l1', 'C': 0.10732856048281715}. Best is trial 31 with value: 0.838301660381927.\n",
      "[I 2024-10-16 18:26:38,027] Trial 35 finished with value: 0.5 and parameters: {'solver': 'liblinear', 'penalty': 'l1', 'C': 0.00032579233100203913}. Best is trial 31 with value: 0.838301660381927.\n",
      "[I 2024-10-16 18:26:38,311] Trial 36 finished with value: 0.8262442182175553 and parameters: {'solver': 'lbfgs', 'C': 0.5825241151925021}. Best is trial 31 with value: 0.838301660381927.\n",
      "[I 2024-10-16 18:26:38,538] Trial 37 finished with value: 0.8142549645882518 and parameters: {'solver': 'liblinear', 'penalty': 'l2', 'C': 3.273607471928468e-05}. Best is trial 31 with value: 0.838301660381927.\n",
      "[I 2024-10-16 18:26:38,780] Trial 38 finished with value: 0.8290837454911889 and parameters: {'solver': 'lbfgs', 'C': 0.0037478618393398887}. Best is trial 31 with value: 0.838301660381927.\n",
      "[I 2024-10-16 18:26:40,126] Trial 39 finished with value: 0.8261965040468026 and parameters: {'solver': 'liblinear', 'penalty': 'l1', 'C': 1.8967981343256335}. Best is trial 31 with value: 0.838301660381927.\n",
      "[I 2024-10-16 18:26:40,448] Trial 40 finished with value: 0.8265945969042761 and parameters: {'solver': 'lbfgs', 'C': 0.11470353769135387}. Best is trial 31 with value: 0.838301660381927.\n",
      "[I 2024-10-16 18:26:40,706] Trial 41 finished with value: 0.8382811860176116 and parameters: {'solver': 'liblinear', 'penalty': 'l1', 'C': 0.007861512159783068}. Best is trial 31 with value: 0.838301660381927.\n",
      "[I 2024-10-16 18:26:40,971] Trial 42 finished with value: 0.8373001969099733 and parameters: {'solver': 'liblinear', 'penalty': 'l1', 'C': 0.004440960796055076}. Best is trial 31 with value: 0.838301660381927.\n",
      "[I 2024-10-16 18:26:41,184] Trial 43 finished with value: 0.5 and parameters: {'solver': 'liblinear', 'penalty': 'l1', 'C': 0.0002637537781092095}. Best is trial 31 with value: 0.838301660381927.\n",
      "[I 2024-10-16 18:26:41,406] Trial 44 finished with value: 0.8321417253301714 and parameters: {'solver': 'liblinear', 'penalty': 'l1', 'C': 0.0008213307218824325}. Best is trial 31 with value: 0.838301660381927.\n",
      "[I 2024-10-16 18:26:41,673] Trial 45 finished with value: 0.8291074245386147 and parameters: {'solver': 'liblinear', 'penalty': 'l2', 'C': 0.0020958566067947023}. Best is trial 31 with value: 0.838301660381927.\n",
      "[I 2024-10-16 18:26:42,027] Trial 46 finished with value: 0.830824956647759 and parameters: {'solver': 'liblinear', 'penalty': 'l1', 'C': 0.06157407868406287}. Best is trial 31 with value: 0.838301660381927.\n",
      "[I 2024-10-16 18:26:42,300] Trial 47 finished with value: 0.8380880148412435 and parameters: {'solver': 'liblinear', 'penalty': 'l1', 'C': 0.010516024676620352}. Best is trial 31 with value: 0.838301660381927.\n",
      "[I 2024-10-16 18:26:42,541] Trial 48 finished with value: 0.8135858979700112 and parameters: {'solver': 'lbfgs', 'C': 1.3252376507422234e-05}. Best is trial 31 with value: 0.838301660381927.\n",
      "[I 2024-10-16 18:26:42,823] Trial 49 finished with value: 0.8259709299634309 and parameters: {'solver': 'liblinear', 'penalty': 'l1', 'C': 256.1561360719363}. Best is trial 31 with value: 0.838301660381927.\n",
      "[I 2024-10-16 18:26:43,091] Trial 50 finished with value: 0.82768365504791 and parameters: {'solver': 'liblinear', 'penalty': 'l2', 'C': 0.025840659078675624}. Best is trial 31 with value: 0.838301660381927.\n",
      "[I 2024-10-16 18:26:43,345] Trial 51 finished with value: 0.8381797043857869 and parameters: {'solver': 'liblinear', 'penalty': 'l1', 'C': 0.006150174077047475}. Best is trial 31 with value: 0.838301660381927.\n",
      "[I 2024-10-16 18:26:43,560] Trial 52 finished with value: 0.5 and parameters: {'solver': 'liblinear', 'penalty': 'l1', 'C': 0.00040186684048288155}. Best is trial 31 with value: 0.838301660381927.\n",
      "[I 2024-10-16 18:26:43,793] Trial 53 finished with value: 0.8326758391818799 and parameters: {'solver': 'liblinear', 'penalty': 'l1', 'C': 0.002133147346894371}. Best is trial 31 with value: 0.838301660381927.\n",
      "[I 2024-10-16 18:26:44,100] Trial 54 finished with value: 0.8319102759944309 and parameters: {'solver': 'liblinear', 'penalty': 'l1', 'C': 0.046481908889933365}. Best is trial 31 with value: 0.838301660381927.\n",
      "[I 2024-10-16 18:26:44,349] Trial 55 finished with value: 0.8382952510157065 and parameters: {'solver': 'liblinear', 'penalty': 'l1', 'C': 0.007239141574951191}. Best is trial 31 with value: 0.838301660381927.\n",
      "[I 2024-10-16 18:26:45,126] Trial 56 finished with value: 0.8265310373559227 and parameters: {'solver': 'liblinear', 'penalty': 'l1', 'C': 0.7663663454035077}. Best is trial 31 with value: 0.838301660381927.\n",
      "[I 2024-10-16 18:26:47,891] Trial 57 finished with value: 0.8260871887451529 and parameters: {'solver': 'liblinear', 'penalty': 'l1', 'C': 4.571474310509523}. Best is trial 31 with value: 0.838301660381927.\n",
      "[I 2024-10-16 18:26:48,166] Trial 58 finished with value: 0.8351235049263102 and parameters: {'solver': 'liblinear', 'penalty': 'l1', 'C': 0.023212174010586558}. Best is trial 31 with value: 0.838301660381927.\n",
      "[I 2024-10-16 18:26:48,400] Trial 59 finished with value: 0.8321417253301714 and parameters: {'solver': 'liblinear', 'penalty': 'l1', 'C': 0.000940919506853686}. Best is trial 31 with value: 0.838301660381927.\n",
      "[I 2024-10-16 18:26:48,779] Trial 60 finished with value: 0.8293337107737886 and parameters: {'solver': 'liblinear', 'penalty': 'l1', 'C': 0.10530920277098313}. Best is trial 31 with value: 0.838301660381927.\n",
      "[I 2024-10-16 18:26:49,068] Trial 61 finished with value: 0.8377198323594657 and parameters: {'solver': 'liblinear', 'penalty': 'l1', 'C': 0.005303878452867312}. Best is trial 31 with value: 0.838301660381927.\n",
      "[I 2024-10-16 18:26:49,363] Trial 62 finished with value: 0.8381150766097301 and parameters: {'solver': 'liblinear', 'penalty': 'l1', 'C': 0.010790909336135825}. Best is trial 31 with value: 0.838301660381927.\n",
      "[I 2024-10-16 18:26:49,598] Trial 63 finished with value: 0.8321789352618403 and parameters: {'solver': 'liblinear', 'penalty': 'l1', 'C': 0.002012875330459153}. Best is trial 31 with value: 0.838301660381927.\n",
      "[I 2024-10-16 18:26:49,851] Trial 64 finished with value: 0.8382815420935128 and parameters: {'solver': 'liblinear', 'penalty': 'l1', 'C': 0.006851734268183763}. Best is trial 31 with value: 0.838301660381927.\n",
      "[I 2024-10-16 18:26:50,087] Trial 65 finished with value: 0.8321417253301714 and parameters: {'solver': 'liblinear', 'penalty': 'l1', 'C': 0.0006164313513667781}. Best is trial 31 with value: 0.838301660381927.\n",
      "[I 2024-10-16 18:26:50,375] Trial 66 finished with value: 0.8372839954564715 and parameters: {'solver': 'liblinear', 'penalty': 'l1', 'C': 0.01469554748023346}. Best is trial 31 with value: 0.838301660381927.\n",
      "[I 2024-10-16 18:26:50,696] Trial 67 finished with value: 0.8263124067526235 and parameters: {'solver': 'lbfgs', 'C': 0.2820737693109988}. Best is trial 31 with value: 0.838301660381927.\n",
      "[I 2024-10-16 18:26:50,971] Trial 68 finished with value: 0.827306036554752 and parameters: {'solver': 'liblinear', 'penalty': 'l2', 'C': 0.03649033570970585}. Best is trial 31 with value: 0.838301660381927.\n",
      "[I 2024-10-16 18:26:51,256] Trial 69 finished with value: 0.8259709299634309 and parameters: {'solver': 'liblinear', 'penalty': 'l1', 'C': 77263.39162271241}. Best is trial 31 with value: 0.838301660381927.\n",
      "[I 2024-10-16 18:26:51,478] Trial 70 finished with value: 0.5 and parameters: {'solver': 'liblinear', 'penalty': 'l1', 'C': 0.0001438024298730752}. Best is trial 31 with value: 0.838301660381927.\n",
      "[I 2024-10-16 18:26:51,751] Trial 71 finished with value: 0.8382815420935128 and parameters: {'solver': 'liblinear', 'penalty': 'l1', 'C': 0.007085712633716459}. Best is trial 31 with value: 0.838301660381927.\n",
      "[I 2024-10-16 18:26:52,114] Trial 72 finished with value: 0.8338409195304072 and parameters: {'solver': 'liblinear', 'penalty': 'l1', 'C': 0.0025991336913436143}. Best is trial 31 with value: 0.838301660381927.\n",
      "[I 2024-10-16 18:26:52,610] Trial 73 finished with value: 0.8357728093320371 and parameters: {'solver': 'liblinear', 'penalty': 'l1', 'C': 0.020857764962406666}. Best is trial 31 with value: 0.838301660381927.\n",
      "[I 2024-10-16 18:26:52,967] Trial 74 finished with value: 0.8382808299417104 and parameters: {'solver': 'liblinear', 'penalty': 'l1', 'C': 0.008227383359242299}. Best is trial 31 with value: 0.838301660381927.\n",
      "[I 2024-10-16 18:26:53,192] Trial 75 finished with value: 0.8321417253301714 and parameters: {'solver': 'liblinear', 'penalty': 'l1', 'C': 0.0011470037251979383}. Best is trial 31 with value: 0.838301660381927.\n",
      "[I 2024-10-16 18:26:53,517] Trial 76 finished with value: 0.8303661528491413 and parameters: {'solver': 'liblinear', 'penalty': 'l1', 'C': 0.06934388331293884}. Best is trial 31 with value: 0.838301660381927.\n",
      "[I 2024-10-16 18:26:53,925] Trial 77 finished with value: 0.8283623357154811 and parameters: {'solver': 'liblinear', 'penalty': 'l1', 'C': 0.18891581576245745}. Best is trial 31 with value: 0.838301660381927.\n",
      "[I 2024-10-16 18:26:54,202] Trial 78 finished with value: 0.828691527886084 and parameters: {'solver': 'lbfgs', 'C': 0.007958488440250292}. Best is trial 31 with value: 0.838301660381927.\n",
      "[I 2024-10-16 18:26:54,447] Trial 79 finished with value: 0.8347271924483423 and parameters: {'solver': 'liblinear', 'penalty': 'l1', 'C': 0.002918998170074147}. Best is trial 31 with value: 0.838301660381927.\n",
      "[I 2024-10-16 18:26:54,771] Trial 80 finished with value: 0.8259709299634309 and parameters: {'solver': 'liblinear', 'penalty': 'l1', 'C': 3436.43110689909}. Best is trial 31 with value: 0.838301660381927.\n",
      "[I 2024-10-16 18:26:55,068] Trial 81 finished with value: 0.8382877734217825 and parameters: {'solver': 'liblinear', 'penalty': 'l1', 'C': 0.008048401542775835}. Best is trial 31 with value: 0.838301660381927.\n",
      "[I 2024-10-16 18:26:55,375] Trial 82 finished with value: 0.8368759324737661 and parameters: {'solver': 'liblinear', 'penalty': 'l1', 'C': 0.016919912112735143}. Best is trial 31 with value: 0.838301660381927.\n",
      "[I 2024-10-16 18:26:55,628] Trial 83 finished with value: 0.8382676551333683 and parameters: {'solver': 'liblinear', 'penalty': 'l1', 'C': 0.006579227639849243}. Best is trial 31 with value: 0.838301660381927.\n",
      "[I 2024-10-16 18:26:55,853] Trial 84 finished with value: 0.5 and parameters: {'solver': 'liblinear', 'penalty': 'l1', 'C': 0.0005324335361984093}. Best is trial 31 with value: 0.838301660381927.\n",
      "[I 2024-10-16 18:26:56,094] Trial 85 finished with value: 0.8321417253301714 and parameters: {'solver': 'liblinear', 'penalty': 'l1', 'C': 0.0011756272595292115}. Best is trial 31 with value: 0.838301660381927.\n",
      "[I 2024-10-16 18:26:56,376] Trial 86 finished with value: 0.8272780845965126 and parameters: {'solver': 'liblinear', 'penalty': 'l2', 'C': 0.040223977236055586}. Best is trial 31 with value: 0.838301660381927.\n",
      "[I 2024-10-16 18:26:56,633] Trial 87 finished with value: 0.8382608896912466 and parameters: {'solver': 'liblinear', 'penalty': 'l1', 'C': 0.006988303889571704}. Best is trial 31 with value: 0.838301660381927.\n",
      "[I 2024-10-16 18:26:56,857] Trial 88 finished with value: 0.5 and parameters: {'solver': 'liblinear', 'penalty': 'l1', 'C': 0.00020496079111502144}. Best is trial 31 with value: 0.838301660381927.\n",
      "[I 2024-10-16 18:26:57,147] Trial 89 finished with value: 0.836167875544351 and parameters: {'solver': 'liblinear', 'penalty': 'l1', 'C': 0.003681597297000033}. Best is trial 31 with value: 0.838301660381927.\n",
      "[I 2024-10-16 18:26:57,447] Trial 90 finished with value: 0.828493905760952 and parameters: {'solver': 'lbfgs', 'C': 0.012680792950736687}. Best is trial 31 with value: 0.838301660381927.\n",
      "[I 2024-10-16 18:26:57,677] Trial 91 finished with value: 0.8321417253301714 and parameters: {'solver': 'liblinear', 'penalty': 'l1', 'C': 0.0016883089473113835}. Best is trial 31 with value: 0.838301660381927.\n",
      "[I 2024-10-16 18:26:57,943] Trial 92 finished with value: 0.8382948949398052 and parameters: {'solver': 'liblinear', 'penalty': 'l1', 'C': 0.007033227987903915}. Best is trial 31 with value: 0.838301660381927.\n",
      "[I 2024-10-16 18:26:58,214] Trial 93 finished with value: 0.8357792186982577 and parameters: {'solver': 'liblinear', 'penalty': 'l1', 'C': 0.02090184196378231}. Best is trial 31 with value: 0.838301660381927.\n",
      "[I 2024-10-16 18:26:58,557] Trial 94 finished with value: 0.8302155327429596 and parameters: {'solver': 'liblinear', 'penalty': 'l1', 'C': 0.07237061393937527}. Best is trial 31 with value: 0.838301660381927.\n",
      "[I 2024-10-16 18:26:58,809] Trial 95 finished with value: 0.8370010931530165 and parameters: {'solver': 'liblinear', 'penalty': 'l1', 'C': 0.004172628356364905}. Best is trial 31 with value: 0.838301660381927.\n",
      "[I 2024-10-16 18:26:59,060] Trial 96 finished with value: 0.8381574496419656 and parameters: {'solver': 'liblinear', 'penalty': 'l1', 'C': 0.008671474605867629}. Best is trial 31 with value: 0.838301660381927.\n",
      "[I 2024-10-16 18:26:59,360] Trial 97 finished with value: 0.8328800487111833 and parameters: {'solver': 'liblinear', 'penalty': 'l1', 'C': 0.03722623272006855}. Best is trial 31 with value: 0.838301660381927.\n",
      "[I 2024-10-16 18:26:59,608] Trial 98 finished with value: 0.8348751419852656 and parameters: {'solver': 'liblinear', 'penalty': 'l1', 'C': 0.003004996012670804}. Best is trial 31 with value: 0.838301660381927.\n",
      "[I 2024-10-16 18:26:59,883] Trial 99 finished with value: 0.8290575739124553 and parameters: {'solver': 'liblinear', 'penalty': 'l2', 'C': 0.006158072689771589}. Best is trial 31 with value: 0.838301660381927.\n"
     ]
    }
   ],
   "source": [
    "# Optimización de hiperparámetros con Optuna\n",
    "def objective(trial):\n",
    "    if best_model[0] == 'Logistic Regression':\n",
    "        solver = trial.suggest_categorical('solver', ['lbfgs', 'liblinear'])\n",
    "        \n",
    "        # Asegurar que la penalización es compatible con el solver\n",
    "        if solver == 'liblinear':\n",
    "            penalty = trial.suggest_categorical('penalty', ['l1', 'l2'])\n",
    "        else:\n",
    "            penalty = 'l2'  # lbfgs solo soporta 'l2' o None\n",
    "        \n",
    "        classifier = LogisticRegression(\n",
    "            C=trial.suggest_loguniform('C', 1e-5, 1e5),\n",
    "            solver=solver,\n",
    "            penalty=penalty,\n",
    "            random_state=42\n",
    "        )\n",
    "    elif best_model[0] == 'Random Forest':\n",
    "        classifier = RandomForestClassifier(\n",
    "            n_estimators=trial.suggest_int('n_estimators', 10, 1000),\n",
    "            max_depth=trial.suggest_int('max_depth', 2, 32),\n",
    "            min_samples_split=trial.suggest_int('min_samples_split', 2, 20),\n",
    "            min_samples_leaf=trial.suggest_int('min_samples_leaf', 1, 20)\n",
    "        )\n",
    "    elif best_model[0] == 'LightGBM':\n",
    "        classifier = LGBMClassifier(\n",
    "            num_leaves=trial.suggest_int('num_leaves', 2, 256),\n",
    "            max_depth=trial.suggest_int('max_depth', 3, 16),\n",
    "            learning_rate=trial.suggest_loguniform('learning_rate', 1e-8, 1.0),\n",
    "            n_estimators=trial.suggest_int('n_estimators', 100, 1000)\n",
    "        )\n",
    "    elif best_model[0] == 'XGBoost':\n",
    "        classifier = XGBClassifier(\n",
    "            max_depth=trial.suggest_int('max_depth', 1, 9),\n",
    "            learning_rate=trial.suggest_loguniform('learning_rate', 1e-8, 1.0),\n",
    "            n_estimators=trial.suggest_int('n_estimators', 100, 1000),\n",
    "            min_child_weight=trial.suggest_int('min_child_weight', 1, 300)\n",
    "        )\n",
    "    else:  # CatBoost\n",
    "        classifier = CatBoostClassifier(\n",
    "            iterations=trial.suggest_int('iterations', 100, 1000),\n",
    "            depth=trial.suggest_int('depth', 4, 10),\n",
    "            learning_rate=trial.suggest_loguniform('learning_rate', 1e-8, 1.0),\n",
    "            l2_leaf_reg=trial.suggest_loguniform('l2_leaf_reg', 1e-8, 100),\n",
    "            verbose=0\n",
    "        )\n",
    "    \n",
    "    pipeline = create_pipeline(classifier)\n",
    "    \n",
    "# Configuración de StratifiedKFold\n",
    "    skf = StratifiedKFold(n_splits=5, shuffle=True, random_state=42)\n",
    "    auc_scores = []\n",
    "    \n",
    "    for train_index, val_index in skf.split(X_train, y_train):\n",
    "        # Uso de iloc para obtener las filas correctas\n",
    "        X_train_fold, X_val_fold = X_train.iloc[train_index], X_train.iloc[val_index]\n",
    "        y_train_fold, y_val_fold = y_train.iloc[train_index], y_train.iloc[val_index]\n",
    "        \n",
    "        pipeline.fit(X_train_fold, y_train_fold)\n",
    "        y_val_pred_proba = pipeline.predict_proba(X_val_fold)[:, 1]\n",
    "        \n",
    "        auc = roc_auc_score(y_val_fold, y_val_pred_proba)\n",
    "        auc_scores.append(auc)\n",
    "    \n",
    "    return np.mean(auc_scores)\n",
    "\n",
    "study = optuna.create_study(direction='maximize')\n",
    "study.optimize(objective, n_trials=100)"
   ]
  },
  {
   "cell_type": "code",
   "execution_count": 57,
   "metadata": {},
   "outputs": [
    {
     "data": {
      "text/html": [
       "<style>#sk-container-id-3 {\n",
       "  /* Definition of color scheme common for light and dark mode */\n",
       "  --sklearn-color-text: black;\n",
       "  --sklearn-color-line: gray;\n",
       "  /* Definition of color scheme for unfitted estimators */\n",
       "  --sklearn-color-unfitted-level-0: #fff5e6;\n",
       "  --sklearn-color-unfitted-level-1: #f6e4d2;\n",
       "  --sklearn-color-unfitted-level-2: #ffe0b3;\n",
       "  --sklearn-color-unfitted-level-3: chocolate;\n",
       "  /* Definition of color scheme for fitted estimators */\n",
       "  --sklearn-color-fitted-level-0: #f0f8ff;\n",
       "  --sklearn-color-fitted-level-1: #d4ebff;\n",
       "  --sklearn-color-fitted-level-2: #b3dbfd;\n",
       "  --sklearn-color-fitted-level-3: cornflowerblue;\n",
       "\n",
       "  /* Specific color for light theme */\n",
       "  --sklearn-color-text-on-default-background: var(--sg-text-color, var(--theme-code-foreground, var(--jp-content-font-color1, black)));\n",
       "  --sklearn-color-background: var(--sg-background-color, var(--theme-background, var(--jp-layout-color0, white)));\n",
       "  --sklearn-color-border-box: var(--sg-text-color, var(--theme-code-foreground, var(--jp-content-font-color1, black)));\n",
       "  --sklearn-color-icon: #696969;\n",
       "\n",
       "  @media (prefers-color-scheme: dark) {\n",
       "    /* Redefinition of color scheme for dark theme */\n",
       "    --sklearn-color-text-on-default-background: var(--sg-text-color, var(--theme-code-foreground, var(--jp-content-font-color1, white)));\n",
       "    --sklearn-color-background: var(--sg-background-color, var(--theme-background, var(--jp-layout-color0, #111)));\n",
       "    --sklearn-color-border-box: var(--sg-text-color, var(--theme-code-foreground, var(--jp-content-font-color1, white)));\n",
       "    --sklearn-color-icon: #878787;\n",
       "  }\n",
       "}\n",
       "\n",
       "#sk-container-id-3 {\n",
       "  color: var(--sklearn-color-text);\n",
       "}\n",
       "\n",
       "#sk-container-id-3 pre {\n",
       "  padding: 0;\n",
       "}\n",
       "\n",
       "#sk-container-id-3 input.sk-hidden--visually {\n",
       "  border: 0;\n",
       "  clip: rect(1px 1px 1px 1px);\n",
       "  clip: rect(1px, 1px, 1px, 1px);\n",
       "  height: 1px;\n",
       "  margin: -1px;\n",
       "  overflow: hidden;\n",
       "  padding: 0;\n",
       "  position: absolute;\n",
       "  width: 1px;\n",
       "}\n",
       "\n",
       "#sk-container-id-3 div.sk-dashed-wrapped {\n",
       "  border: 1px dashed var(--sklearn-color-line);\n",
       "  margin: 0 0.4em 0.5em 0.4em;\n",
       "  box-sizing: border-box;\n",
       "  padding-bottom: 0.4em;\n",
       "  background-color: var(--sklearn-color-background);\n",
       "}\n",
       "\n",
       "#sk-container-id-3 div.sk-container {\n",
       "  /* jupyter's `normalize.less` sets `[hidden] { display: none; }`\n",
       "     but bootstrap.min.css set `[hidden] { display: none !important; }`\n",
       "     so we also need the `!important` here to be able to override the\n",
       "     default hidden behavior on the sphinx rendered scikit-learn.org.\n",
       "     See: https://github.com/scikit-learn/scikit-learn/issues/21755 */\n",
       "  display: inline-block !important;\n",
       "  position: relative;\n",
       "}\n",
       "\n",
       "#sk-container-id-3 div.sk-text-repr-fallback {\n",
       "  display: none;\n",
       "}\n",
       "\n",
       "div.sk-parallel-item,\n",
       "div.sk-serial,\n",
       "div.sk-item {\n",
       "  /* draw centered vertical line to link estimators */\n",
       "  background-image: linear-gradient(var(--sklearn-color-text-on-default-background), var(--sklearn-color-text-on-default-background));\n",
       "  background-size: 2px 100%;\n",
       "  background-repeat: no-repeat;\n",
       "  background-position: center center;\n",
       "}\n",
       "\n",
       "/* Parallel-specific style estimator block */\n",
       "\n",
       "#sk-container-id-3 div.sk-parallel-item::after {\n",
       "  content: \"\";\n",
       "  width: 100%;\n",
       "  border-bottom: 2px solid var(--sklearn-color-text-on-default-background);\n",
       "  flex-grow: 1;\n",
       "}\n",
       "\n",
       "#sk-container-id-3 div.sk-parallel {\n",
       "  display: flex;\n",
       "  align-items: stretch;\n",
       "  justify-content: center;\n",
       "  background-color: var(--sklearn-color-background);\n",
       "  position: relative;\n",
       "}\n",
       "\n",
       "#sk-container-id-3 div.sk-parallel-item {\n",
       "  display: flex;\n",
       "  flex-direction: column;\n",
       "}\n",
       "\n",
       "#sk-container-id-3 div.sk-parallel-item:first-child::after {\n",
       "  align-self: flex-end;\n",
       "  width: 50%;\n",
       "}\n",
       "\n",
       "#sk-container-id-3 div.sk-parallel-item:last-child::after {\n",
       "  align-self: flex-start;\n",
       "  width: 50%;\n",
       "}\n",
       "\n",
       "#sk-container-id-3 div.sk-parallel-item:only-child::after {\n",
       "  width: 0;\n",
       "}\n",
       "\n",
       "/* Serial-specific style estimator block */\n",
       "\n",
       "#sk-container-id-3 div.sk-serial {\n",
       "  display: flex;\n",
       "  flex-direction: column;\n",
       "  align-items: center;\n",
       "  background-color: var(--sklearn-color-background);\n",
       "  padding-right: 1em;\n",
       "  padding-left: 1em;\n",
       "}\n",
       "\n",
       "\n",
       "/* Toggleable style: style used for estimator/Pipeline/ColumnTransformer box that is\n",
       "clickable and can be expanded/collapsed.\n",
       "- Pipeline and ColumnTransformer use this feature and define the default style\n",
       "- Estimators will overwrite some part of the style using the `sk-estimator` class\n",
       "*/\n",
       "\n",
       "/* Pipeline and ColumnTransformer style (default) */\n",
       "\n",
       "#sk-container-id-3 div.sk-toggleable {\n",
       "  /* Default theme specific background. It is overwritten whether we have a\n",
       "  specific estimator or a Pipeline/ColumnTransformer */\n",
       "  background-color: var(--sklearn-color-background);\n",
       "}\n",
       "\n",
       "/* Toggleable label */\n",
       "#sk-container-id-3 label.sk-toggleable__label {\n",
       "  cursor: pointer;\n",
       "  display: block;\n",
       "  width: 100%;\n",
       "  margin-bottom: 0;\n",
       "  padding: 0.5em;\n",
       "  box-sizing: border-box;\n",
       "  text-align: center;\n",
       "}\n",
       "\n",
       "#sk-container-id-3 label.sk-toggleable__label-arrow:before {\n",
       "  /* Arrow on the left of the label */\n",
       "  content: \"▸\";\n",
       "  float: left;\n",
       "  margin-right: 0.25em;\n",
       "  color: var(--sklearn-color-icon);\n",
       "}\n",
       "\n",
       "#sk-container-id-3 label.sk-toggleable__label-arrow:hover:before {\n",
       "  color: var(--sklearn-color-text);\n",
       "}\n",
       "\n",
       "/* Toggleable content - dropdown */\n",
       "\n",
       "#sk-container-id-3 div.sk-toggleable__content {\n",
       "  max-height: 0;\n",
       "  max-width: 0;\n",
       "  overflow: hidden;\n",
       "  text-align: left;\n",
       "  /* unfitted */\n",
       "  background-color: var(--sklearn-color-unfitted-level-0);\n",
       "}\n",
       "\n",
       "#sk-container-id-3 div.sk-toggleable__content.fitted {\n",
       "  /* fitted */\n",
       "  background-color: var(--sklearn-color-fitted-level-0);\n",
       "}\n",
       "\n",
       "#sk-container-id-3 div.sk-toggleable__content pre {\n",
       "  margin: 0.2em;\n",
       "  border-radius: 0.25em;\n",
       "  color: var(--sklearn-color-text);\n",
       "  /* unfitted */\n",
       "  background-color: var(--sklearn-color-unfitted-level-0);\n",
       "}\n",
       "\n",
       "#sk-container-id-3 div.sk-toggleable__content.fitted pre {\n",
       "  /* unfitted */\n",
       "  background-color: var(--sklearn-color-fitted-level-0);\n",
       "}\n",
       "\n",
       "#sk-container-id-3 input.sk-toggleable__control:checked~div.sk-toggleable__content {\n",
       "  /* Expand drop-down */\n",
       "  max-height: 200px;\n",
       "  max-width: 100%;\n",
       "  overflow: auto;\n",
       "}\n",
       "\n",
       "#sk-container-id-3 input.sk-toggleable__control:checked~label.sk-toggleable__label-arrow:before {\n",
       "  content: \"▾\";\n",
       "}\n",
       "\n",
       "/* Pipeline/ColumnTransformer-specific style */\n",
       "\n",
       "#sk-container-id-3 div.sk-label input.sk-toggleable__control:checked~label.sk-toggleable__label {\n",
       "  color: var(--sklearn-color-text);\n",
       "  background-color: var(--sklearn-color-unfitted-level-2);\n",
       "}\n",
       "\n",
       "#sk-container-id-3 div.sk-label.fitted input.sk-toggleable__control:checked~label.sk-toggleable__label {\n",
       "  background-color: var(--sklearn-color-fitted-level-2);\n",
       "}\n",
       "\n",
       "/* Estimator-specific style */\n",
       "\n",
       "/* Colorize estimator box */\n",
       "#sk-container-id-3 div.sk-estimator input.sk-toggleable__control:checked~label.sk-toggleable__label {\n",
       "  /* unfitted */\n",
       "  background-color: var(--sklearn-color-unfitted-level-2);\n",
       "}\n",
       "\n",
       "#sk-container-id-3 div.sk-estimator.fitted input.sk-toggleable__control:checked~label.sk-toggleable__label {\n",
       "  /* fitted */\n",
       "  background-color: var(--sklearn-color-fitted-level-2);\n",
       "}\n",
       "\n",
       "#sk-container-id-3 div.sk-label label.sk-toggleable__label,\n",
       "#sk-container-id-3 div.sk-label label {\n",
       "  /* The background is the default theme color */\n",
       "  color: var(--sklearn-color-text-on-default-background);\n",
       "}\n",
       "\n",
       "/* On hover, darken the color of the background */\n",
       "#sk-container-id-3 div.sk-label:hover label.sk-toggleable__label {\n",
       "  color: var(--sklearn-color-text);\n",
       "  background-color: var(--sklearn-color-unfitted-level-2);\n",
       "}\n",
       "\n",
       "/* Label box, darken color on hover, fitted */\n",
       "#sk-container-id-3 div.sk-label.fitted:hover label.sk-toggleable__label.fitted {\n",
       "  color: var(--sklearn-color-text);\n",
       "  background-color: var(--sklearn-color-fitted-level-2);\n",
       "}\n",
       "\n",
       "/* Estimator label */\n",
       "\n",
       "#sk-container-id-3 div.sk-label label {\n",
       "  font-family: monospace;\n",
       "  font-weight: bold;\n",
       "  display: inline-block;\n",
       "  line-height: 1.2em;\n",
       "}\n",
       "\n",
       "#sk-container-id-3 div.sk-label-container {\n",
       "  text-align: center;\n",
       "}\n",
       "\n",
       "/* Estimator-specific */\n",
       "#sk-container-id-3 div.sk-estimator {\n",
       "  font-family: monospace;\n",
       "  border: 1px dotted var(--sklearn-color-border-box);\n",
       "  border-radius: 0.25em;\n",
       "  box-sizing: border-box;\n",
       "  margin-bottom: 0.5em;\n",
       "  /* unfitted */\n",
       "  background-color: var(--sklearn-color-unfitted-level-0);\n",
       "}\n",
       "\n",
       "#sk-container-id-3 div.sk-estimator.fitted {\n",
       "  /* fitted */\n",
       "  background-color: var(--sklearn-color-fitted-level-0);\n",
       "}\n",
       "\n",
       "/* on hover */\n",
       "#sk-container-id-3 div.sk-estimator:hover {\n",
       "  /* unfitted */\n",
       "  background-color: var(--sklearn-color-unfitted-level-2);\n",
       "}\n",
       "\n",
       "#sk-container-id-3 div.sk-estimator.fitted:hover {\n",
       "  /* fitted */\n",
       "  background-color: var(--sklearn-color-fitted-level-2);\n",
       "}\n",
       "\n",
       "/* Specification for estimator info (e.g. \"i\" and \"?\") */\n",
       "\n",
       "/* Common style for \"i\" and \"?\" */\n",
       "\n",
       ".sk-estimator-doc-link,\n",
       "a:link.sk-estimator-doc-link,\n",
       "a:visited.sk-estimator-doc-link {\n",
       "  float: right;\n",
       "  font-size: smaller;\n",
       "  line-height: 1em;\n",
       "  font-family: monospace;\n",
       "  background-color: var(--sklearn-color-background);\n",
       "  border-radius: 1em;\n",
       "  height: 1em;\n",
       "  width: 1em;\n",
       "  text-decoration: none !important;\n",
       "  margin-left: 1ex;\n",
       "  /* unfitted */\n",
       "  border: var(--sklearn-color-unfitted-level-1) 1pt solid;\n",
       "  color: var(--sklearn-color-unfitted-level-1);\n",
       "}\n",
       "\n",
       ".sk-estimator-doc-link.fitted,\n",
       "a:link.sk-estimator-doc-link.fitted,\n",
       "a:visited.sk-estimator-doc-link.fitted {\n",
       "  /* fitted */\n",
       "  border: var(--sklearn-color-fitted-level-1) 1pt solid;\n",
       "  color: var(--sklearn-color-fitted-level-1);\n",
       "}\n",
       "\n",
       "/* On hover */\n",
       "div.sk-estimator:hover .sk-estimator-doc-link:hover,\n",
       ".sk-estimator-doc-link:hover,\n",
       "div.sk-label-container:hover .sk-estimator-doc-link:hover,\n",
       ".sk-estimator-doc-link:hover {\n",
       "  /* unfitted */\n",
       "  background-color: var(--sklearn-color-unfitted-level-3);\n",
       "  color: var(--sklearn-color-background);\n",
       "  text-decoration: none;\n",
       "}\n",
       "\n",
       "div.sk-estimator.fitted:hover .sk-estimator-doc-link.fitted:hover,\n",
       ".sk-estimator-doc-link.fitted:hover,\n",
       "div.sk-label-container:hover .sk-estimator-doc-link.fitted:hover,\n",
       ".sk-estimator-doc-link.fitted:hover {\n",
       "  /* fitted */\n",
       "  background-color: var(--sklearn-color-fitted-level-3);\n",
       "  color: var(--sklearn-color-background);\n",
       "  text-decoration: none;\n",
       "}\n",
       "\n",
       "/* Span, style for the box shown on hovering the info icon */\n",
       ".sk-estimator-doc-link span {\n",
       "  display: none;\n",
       "  z-index: 9999;\n",
       "  position: relative;\n",
       "  font-weight: normal;\n",
       "  right: .2ex;\n",
       "  padding: .5ex;\n",
       "  margin: .5ex;\n",
       "  width: min-content;\n",
       "  min-width: 20ex;\n",
       "  max-width: 50ex;\n",
       "  color: var(--sklearn-color-text);\n",
       "  box-shadow: 2pt 2pt 4pt #999;\n",
       "  /* unfitted */\n",
       "  background: var(--sklearn-color-unfitted-level-0);\n",
       "  border: .5pt solid var(--sklearn-color-unfitted-level-3);\n",
       "}\n",
       "\n",
       ".sk-estimator-doc-link.fitted span {\n",
       "  /* fitted */\n",
       "  background: var(--sklearn-color-fitted-level-0);\n",
       "  border: var(--sklearn-color-fitted-level-3);\n",
       "}\n",
       "\n",
       ".sk-estimator-doc-link:hover span {\n",
       "  display: block;\n",
       "}\n",
       "\n",
       "/* \"?\"-specific style due to the `<a>` HTML tag */\n",
       "\n",
       "#sk-container-id-3 a.estimator_doc_link {\n",
       "  float: right;\n",
       "  font-size: 1rem;\n",
       "  line-height: 1em;\n",
       "  font-family: monospace;\n",
       "  background-color: var(--sklearn-color-background);\n",
       "  border-radius: 1rem;\n",
       "  height: 1rem;\n",
       "  width: 1rem;\n",
       "  text-decoration: none;\n",
       "  /* unfitted */\n",
       "  color: var(--sklearn-color-unfitted-level-1);\n",
       "  border: var(--sklearn-color-unfitted-level-1) 1pt solid;\n",
       "}\n",
       "\n",
       "#sk-container-id-3 a.estimator_doc_link.fitted {\n",
       "  /* fitted */\n",
       "  border: var(--sklearn-color-fitted-level-1) 1pt solid;\n",
       "  color: var(--sklearn-color-fitted-level-1);\n",
       "}\n",
       "\n",
       "/* On hover */\n",
       "#sk-container-id-3 a.estimator_doc_link:hover {\n",
       "  /* unfitted */\n",
       "  background-color: var(--sklearn-color-unfitted-level-3);\n",
       "  color: var(--sklearn-color-background);\n",
       "  text-decoration: none;\n",
       "}\n",
       "\n",
       "#sk-container-id-3 a.estimator_doc_link.fitted:hover {\n",
       "  /* fitted */\n",
       "  background-color: var(--sklearn-color-fitted-level-3);\n",
       "}\n",
       "</style><div id=\"sk-container-id-3\" class=\"sk-top-container\"><div class=\"sk-text-repr-fallback\"><pre>Pipeline(steps=[(&#x27;preprocessor&#x27;,\n",
       "                 ColumnTransformer(transformers=[(&#x27;num&#x27;, StandardScaler(),\n",
       "                                                  [&#x27;age&#x27;, &#x27;hypertension&#x27;,\n",
       "                                                   &#x27;heart_disease&#x27;,\n",
       "                                                   &#x27;avg_glucose_level&#x27;,\n",
       "                                                   &#x27;bmi&#x27;]),\n",
       "                                                 (&#x27;cat&#x27;,\n",
       "                                                  OneHotEncoder(handle_unknown=&#x27;ignore&#x27;),\n",
       "                                                  [&#x27;gender&#x27;, &#x27;ever_married&#x27;,\n",
       "                                                   &#x27;work_type&#x27;,\n",
       "                                                   &#x27;Residence_type&#x27;,\n",
       "                                                   &#x27;smoking_status&#x27;])])),\n",
       "                (&#x27;smote&#x27;, SMOTE(random_state=42)),\n",
       "                (&#x27;classifier&#x27;,\n",
       "                 LogisticRegression(C=0.006662384008119708, penalty=&#x27;l1&#x27;,\n",
       "                                    solver=&#x27;liblinear&#x27;))])</pre><b>In a Jupyter environment, please rerun this cell to show the HTML representation or trust the notebook. <br />On GitHub, the HTML representation is unable to render, please try loading this page with nbviewer.org.</b></div><div class=\"sk-container\" hidden><div class=\"sk-item sk-dashed-wrapped\"><div class=\"sk-label-container\"><div class=\"sk-label fitted sk-toggleable\"><input class=\"sk-toggleable__control sk-hidden--visually\" id=\"sk-estimator-id-17\" type=\"checkbox\" ><label for=\"sk-estimator-id-17\" class=\"sk-toggleable__label fitted sk-toggleable__label-arrow fitted\">&nbsp;Pipeline<span class=\"sk-estimator-doc-link fitted\">i<span>Fitted</span></span></label><div class=\"sk-toggleable__content fitted\"><pre>Pipeline(steps=[(&#x27;preprocessor&#x27;,\n",
       "                 ColumnTransformer(transformers=[(&#x27;num&#x27;, StandardScaler(),\n",
       "                                                  [&#x27;age&#x27;, &#x27;hypertension&#x27;,\n",
       "                                                   &#x27;heart_disease&#x27;,\n",
       "                                                   &#x27;avg_glucose_level&#x27;,\n",
       "                                                   &#x27;bmi&#x27;]),\n",
       "                                                 (&#x27;cat&#x27;,\n",
       "                                                  OneHotEncoder(handle_unknown=&#x27;ignore&#x27;),\n",
       "                                                  [&#x27;gender&#x27;, &#x27;ever_married&#x27;,\n",
       "                                                   &#x27;work_type&#x27;,\n",
       "                                                   &#x27;Residence_type&#x27;,\n",
       "                                                   &#x27;smoking_status&#x27;])])),\n",
       "                (&#x27;smote&#x27;, SMOTE(random_state=42)),\n",
       "                (&#x27;classifier&#x27;,\n",
       "                 LogisticRegression(C=0.006662384008119708, penalty=&#x27;l1&#x27;,\n",
       "                                    solver=&#x27;liblinear&#x27;))])</pre></div> </div></div><div class=\"sk-serial\"><div class=\"sk-item sk-dashed-wrapped\"><div class=\"sk-label-container\"><div class=\"sk-label fitted sk-toggleable\"><input class=\"sk-toggleable__control sk-hidden--visually\" id=\"sk-estimator-id-18\" type=\"checkbox\" ><label for=\"sk-estimator-id-18\" class=\"sk-toggleable__label fitted sk-toggleable__label-arrow fitted\">&nbsp;preprocessor: ColumnTransformer<a class=\"sk-estimator-doc-link fitted\" rel=\"noreferrer\" target=\"_blank\" href=\"https://scikit-learn.org/1.5/modules/generated/sklearn.compose.ColumnTransformer.html\">?<span>Documentation for preprocessor: ColumnTransformer</span></a></label><div class=\"sk-toggleable__content fitted\"><pre>ColumnTransformer(transformers=[(&#x27;num&#x27;, StandardScaler(),\n",
       "                                 [&#x27;age&#x27;, &#x27;hypertension&#x27;, &#x27;heart_disease&#x27;,\n",
       "                                  &#x27;avg_glucose_level&#x27;, &#x27;bmi&#x27;]),\n",
       "                                (&#x27;cat&#x27;, OneHotEncoder(handle_unknown=&#x27;ignore&#x27;),\n",
       "                                 [&#x27;gender&#x27;, &#x27;ever_married&#x27;, &#x27;work_type&#x27;,\n",
       "                                  &#x27;Residence_type&#x27;, &#x27;smoking_status&#x27;])])</pre></div> </div></div><div class=\"sk-parallel\"><div class=\"sk-parallel-item\"><div class=\"sk-item\"><div class=\"sk-label-container\"><div class=\"sk-label fitted sk-toggleable\"><input class=\"sk-toggleable__control sk-hidden--visually\" id=\"sk-estimator-id-19\" type=\"checkbox\" ><label for=\"sk-estimator-id-19\" class=\"sk-toggleable__label fitted sk-toggleable__label-arrow fitted\">num</label><div class=\"sk-toggleable__content fitted\"><pre>[&#x27;age&#x27;, &#x27;hypertension&#x27;, &#x27;heart_disease&#x27;, &#x27;avg_glucose_level&#x27;, &#x27;bmi&#x27;]</pre></div> </div></div><div class=\"sk-serial\"><div class=\"sk-item\"><div class=\"sk-estimator fitted sk-toggleable\"><input class=\"sk-toggleable__control sk-hidden--visually\" id=\"sk-estimator-id-20\" type=\"checkbox\" ><label for=\"sk-estimator-id-20\" class=\"sk-toggleable__label fitted sk-toggleable__label-arrow fitted\">&nbsp;StandardScaler<a class=\"sk-estimator-doc-link fitted\" rel=\"noreferrer\" target=\"_blank\" href=\"https://scikit-learn.org/1.5/modules/generated/sklearn.preprocessing.StandardScaler.html\">?<span>Documentation for StandardScaler</span></a></label><div class=\"sk-toggleable__content fitted\"><pre>StandardScaler()</pre></div> </div></div></div></div></div><div class=\"sk-parallel-item\"><div class=\"sk-item\"><div class=\"sk-label-container\"><div class=\"sk-label fitted sk-toggleable\"><input class=\"sk-toggleable__control sk-hidden--visually\" id=\"sk-estimator-id-21\" type=\"checkbox\" ><label for=\"sk-estimator-id-21\" class=\"sk-toggleable__label fitted sk-toggleable__label-arrow fitted\">cat</label><div class=\"sk-toggleable__content fitted\"><pre>[&#x27;gender&#x27;, &#x27;ever_married&#x27;, &#x27;work_type&#x27;, &#x27;Residence_type&#x27;, &#x27;smoking_status&#x27;]</pre></div> </div></div><div class=\"sk-serial\"><div class=\"sk-item\"><div class=\"sk-estimator fitted sk-toggleable\"><input class=\"sk-toggleable__control sk-hidden--visually\" id=\"sk-estimator-id-22\" type=\"checkbox\" ><label for=\"sk-estimator-id-22\" class=\"sk-toggleable__label fitted sk-toggleable__label-arrow fitted\">&nbsp;OneHotEncoder<a class=\"sk-estimator-doc-link fitted\" rel=\"noreferrer\" target=\"_blank\" href=\"https://scikit-learn.org/1.5/modules/generated/sklearn.preprocessing.OneHotEncoder.html\">?<span>Documentation for OneHotEncoder</span></a></label><div class=\"sk-toggleable__content fitted\"><pre>OneHotEncoder(handle_unknown=&#x27;ignore&#x27;)</pre></div> </div></div></div></div></div></div></div><div class=\"sk-item\"><div class=\"sk-estimator fitted sk-toggleable\"><input class=\"sk-toggleable__control sk-hidden--visually\" id=\"sk-estimator-id-23\" type=\"checkbox\" ><label for=\"sk-estimator-id-23\" class=\"sk-toggleable__label fitted sk-toggleable__label-arrow fitted\">SMOTE</label><div class=\"sk-toggleable__content fitted\"><pre>SMOTE(random_state=42)</pre></div> </div></div><div class=\"sk-item\"><div class=\"sk-estimator fitted sk-toggleable\"><input class=\"sk-toggleable__control sk-hidden--visually\" id=\"sk-estimator-id-24\" type=\"checkbox\" ><label for=\"sk-estimator-id-24\" class=\"sk-toggleable__label fitted sk-toggleable__label-arrow fitted\">&nbsp;LogisticRegression<a class=\"sk-estimator-doc-link fitted\" rel=\"noreferrer\" target=\"_blank\" href=\"https://scikit-learn.org/1.5/modules/generated/sklearn.linear_model.LogisticRegression.html\">?<span>Documentation for LogisticRegression</span></a></label><div class=\"sk-toggleable__content fitted\"><pre>LogisticRegression(C=0.006662384008119708, penalty=&#x27;l1&#x27;, solver=&#x27;liblinear&#x27;)</pre></div> </div></div></div></div></div></div>"
      ],
      "text/plain": [
       "Pipeline(steps=[('preprocessor',\n",
       "                 ColumnTransformer(transformers=[('num', StandardScaler(),\n",
       "                                                  ['age', 'hypertension',\n",
       "                                                   'heart_disease',\n",
       "                                                   'avg_glucose_level',\n",
       "                                                   'bmi']),\n",
       "                                                 ('cat',\n",
       "                                                  OneHotEncoder(handle_unknown='ignore'),\n",
       "                                                  ['gender', 'ever_married',\n",
       "                                                   'work_type',\n",
       "                                                   'Residence_type',\n",
       "                                                   'smoking_status'])])),\n",
       "                ('smote', SMOTE(random_state=42)),\n",
       "                ('classifier',\n",
       "                 LogisticRegression(C=0.006662384008119708, penalty='l1',\n",
       "                                    solver='liblinear'))])"
      ]
     },
     "execution_count": 57,
     "metadata": {},
     "output_type": "execute_result"
    }
   ],
   "source": [
    "# Entrenar el mejor modelo con los mejores hiperparámetros\n",
    "best_params = study.best_params\n",
    "best_classifier = models[best_model[0]]\n",
    "best_classifier.set_params(**best_params)\n",
    "best_pipeline = create_pipeline(best_classifier)\n",
    "best_pipeline.fit(X_train, y_train)"
   ]
  },
  {
   "cell_type": "code",
   "execution_count": 58,
   "metadata": {},
   "outputs": [
    {
     "name": "stderr",
     "output_type": "stream",
     "text": [
      "DEBUG:urllib3.connectionpool:Resetting dropped connection: localhost\n",
      "DEBUG:urllib3.connectionpool:http://localhost:5000 \"POST /api/2.0/mlflow/runs/create HTTP/11\" 200 1008\n",
      "DEBUG:urllib3.connectionpool:Resetting dropped connection: localhost\n",
      "DEBUG:urllib3.connectionpool:http://localhost:5000 \"POST /api/2.0/mlflow/runs/log-batch HTTP/11\" 200 2\n",
      "DEBUG:urllib3.connectionpool:Resetting dropped connection: localhost\n",
      "DEBUG:urllib3.connectionpool:http://localhost:5000 \"POST /api/2.0/mlflow/runs/log-batch HTTP/11\" 200 2\n"
     ]
    },
    {
     "name": "stdout",
     "output_type": "stream",
     "text": [
      "\n",
      "Best model after optimization: Logistic Regression\n",
      "Best parameters: {'solver': 'liblinear', 'penalty': 'l1', 'C': 0.006662384008119708}\n",
      "\n",
      "Optimized model metrics:\n",
      "accuracy: 0.7031\n",
      "precision: 0.1377\n",
      "recall: 0.8519\n",
      "f1: 0.2371\n",
      "auc: 0.8488\n",
      "\n",
      "Train AUC: 0.8404\n",
      "Overfitting: -0.0083\n"
     ]
    }
   ],
   "source": [
    "# Evaluar el modelo optimizado\n",
    "y_pred_optimized = best_pipeline.predict(X_test)\n",
    "y_pred_proba_optimized = best_pipeline.predict_proba(X_test)[:, 1]\n",
    "metrics_optimized = evaluate_model(y_test, y_pred_optimized, y_pred_proba_optimized)\n",
    "\n",
    "# Log de métricas del modelo optimizado en MLflow\n",
    "mlflow.log_params(best_params)\n",
    "mlflow.log_metrics(metrics_optimized)\n",
    "\n",
    "print(f\"\\nBest model after optimization: {best_model[0]}\")\n",
    "print(f\"Best parameters: {best_params}\")\n",
    "print(\"\\nOptimized model metrics:\")\n",
    "for metric, value in metrics_optimized.items():\n",
    "    print(f\"{metric}: {value:.4f}\")\n",
    "    \n",
    "# Calcular e imprimir el overfitting\n",
    "y_train_pred_proba = best_pipeline.predict_proba(X_train)[:, 1]\n",
    "train_auc = roc_auc_score(y_train, y_train_pred_proba)\n",
    "overfitting = train_auc - metrics_optimized['auc']\n",
    "print(f\"\\nTrain AUC: {train_auc:.4f}\")\n",
    "print(f\"Overfitting: {overfitting:.4f}\")\n"
   ]
  },
  {
   "cell_type": "code",
   "execution_count": 59,
   "metadata": {},
   "outputs": [
    {
     "name": "stderr",
     "output_type": "stream",
     "text": [
      "DEBUG:matplotlib.colorbar:locator: <matplotlib.ticker.AutoLocator object at 0x137a3f470>\n"
     ]
    },
    {
     "data": {
      "image/png": "[encoded data removed]",
      "text/plain": [
       "<Figure size 600x400 with 2 Axes>"
      ]
     },
     "metadata": {},
     "output_type": "display_data"
    }
   ],
   "source": [
    "# Visualizar matriz de confusión\n",
    "cm = confusion_matrix(y_test, y_pred_optimized)\n",
    "plt.figure(figsize=(6, 4))\n",
    "plt.imshow(cm, interpolation='nearest', cmap=plt.cm.Blues)\n",
    "plt.title('Confusion Matrix')\n",
    "plt.colorbar()\n",
    "tick_marks = np.arange(2)\n",
    "plt.xticks(tick_marks, ['No Stroke', 'Stroke'])\n",
    "plt.yticks(tick_marks, ['No Stroke', 'Stroke'])\n",
    "plt.tight_layout()\n",
    "plt.ylabel('True label')\n",
    "plt.xlabel('Predicted label')\n",
    "for i in range(2):\n",
    "    for j in range(2):\n",
    "        plt.text(j, i, str(cm[i, j]), horizontalalignment=\"center\", color=\"white\" if cm[i, j] > cm.max() / 2 else \"black\")\n",
    "plt.show()"
   ]
  },
  {
   "cell_type": "code",
   "execution_count": 60,
   "metadata": {},
   "outputs": [
    {
     "data": {
      "image/png": "[encoded data removed]",
      "text/plain": [
       "<Figure size 800x600 with 1 Axes>"
      ]
     },
     "metadata": {},
     "output_type": "display_data"
    }
   ],
   "source": [
    "# Visualizar curva ROC\n",
    "fpr, tpr, _ = roc_curve(y_test, y_pred_proba_optimized)\n",
    "plt.figure(figsize=(8, 6))\n",
    "plt.plot(fpr, tpr, color='blue', label=f'ROC curve (AUC = {metrics_optimized[\"auc\"]:.2f})')\n",
    "plt.plot([0, 1], [0, 1], color='red', linestyle='--')\n",
    "plt.xlim([0.0, 1.0])\n",
    "plt.ylim([0.0, 1.05])\n",
    "plt.xlabel('False Positive Rate')\n",
    "plt.ylabel('True Positive Rate')\n",
    "plt.title('Receiver Operating Characteristic (ROC) Curve')\n",
    "plt.legend(loc=\"lower right\")\n",
    "plt.show()"
   ]
  },
  {
   "cell_type": "code",
   "execution_count": 61,
   "metadata": {},
   "outputs": [
    {
     "name": "stderr",
     "output_type": "stream",
     "text": [
      "DEBUG:urllib3.connectionpool:Resetting dropped connection: localhost\n",
      "DEBUG:urllib3.connectionpool:http://localhost:5000 \"GET /api/2.0/mlflow/runs/get?run_uuid=2e7d3ce2ff704b2c8c2b66a93c4be558&run_id=2e7d3ce2ff704b2c8c2b66a93c4be558 HTTP/11\" 200 2040\n",
      "2024/10/16 18:27:00 INFO mlflow.tracking._tracking_service.client: 🏃 View run kindly-asp-969 at: http://localhost:5000/#/experiments/0/runs/2e7d3ce2ff704b2c8c2b66a93c4be558.\n",
      "2024/10/16 18:27:00 INFO mlflow.tracking._tracking_service.client: 🧪 View experiment at: http://localhost:5000/#/experiments/0.\n",
      "DEBUG:urllib3.connectionpool:Resetting dropped connection: localhost\n",
      "DEBUG:urllib3.connectionpool:http://localhost:5000 \"POST /api/2.0/mlflow/runs/update HTTP/11\" 200 505\n"
     ]
    },
    {
     "name": "stdout",
     "output_type": "stream",
     "text": [
      "\n",
      "Best model saved as: best_stroke_prediction_model_logistic_regression.pkl\n"
     ]
    }
   ],
   "source": [
    "# Guardar el mejor modelo en un archivo pickle\n",
    "best_model_filename = f'best_stroke_prediction_model_{best_model[0].replace(\" \", \"_\").lower()}.pkl'\n",
    "joblib.dump(best_pipeline, best_model_filename)\n",
    "print(f\"\\nBest model saved as: {best_model_filename}\")\n",
    "\n",
    "# Finalizar el seguimiento de MLflow\n",
    "mlflow.end_run()"
   ]
  },
  {
   "cell_type": "code",
   "execution_count": 62,
   "metadata": {},
   "outputs": [
    {
     "name": "stdout",
     "output_type": "stream",
     "text": [
      "Importancia de las características:\n",
      "                                Feature  Importance\n",
      "0                              num__age    1.480789\n",
      "3                num__avg_glucose_level    0.149379\n",
      "1                     num__hypertension    0.055402\n",
      "17     cat__smoking_status_never smoked    0.047384\n",
      "11         cat__work_type_Self-employed    0.000000\n",
      "16  cat__smoking_status_formerly smoked    0.000000\n",
      "15          cat__smoking_status_Unknown    0.000000\n",
      "14            cat__Residence_type_Urban    0.000000\n",
      "13            cat__Residence_type_Rural    0.000000\n",
      "12              cat__work_type_children    0.000000\n",
      "9               cat__work_type_Govt_job    0.000000\n",
      "10               cat__work_type_Private    0.000000\n",
      "8                 cat__ever_married_Yes    0.000000\n",
      "7                  cat__ever_married_No    0.000000\n",
      "6                      cat__gender_Male    0.000000\n",
      "5                    cat__gender_Female    0.000000\n",
      "4                              num__bmi    0.000000\n",
      "2                    num__heart_disease    0.000000\n",
      "18           cat__smoking_status_smokes    0.000000\n",
      "\n",
      "Best model saved as: best_stroke_prediction_model_logistic_regression.pkl\n"
     ]
    }
   ],
   "source": [
    "# Extraer el clasificador del pipeline\n",
    "best_classifier = best_pipeline.named_steps['classifier']\n",
    "X_train_transformed = best_pipeline.named_steps['preprocessor'].transform(X_train)  # Transformar X_train\n",
    "\n",
    "# Inicializar el DataFrame para la importancia\n",
    "importance_df = pd.DataFrame()\n",
    "\n",
    "# Calcular la importancia de las características\n",
    "if hasattr(best_classifier, 'coef_'):  # Modelos lineales\n",
    "    importance = best_classifier.coef_[0]\n",
    "    features = best_pipeline.named_steps['preprocessor'].get_feature_names_out(X_train.columns)\n",
    "\n",
    "elif hasattr(best_classifier, 'feature_importances_'):  # Modelos basados en árboles\n",
    "    importance = best_classifier.feature_importances_\n",
    "    features = best_pipeline.named_steps['preprocessor'].get_feature_names_out(X_train.columns)\n",
    "\n",
    "else:\n",
    "    raise ValueError(\"El clasificador no tiene coeficientes ni importancias para calcular.\")\n",
    "\n",
    "# Crear DataFrame de importancia\n",
    "importance_df = pd.DataFrame({'Feature': features, 'Importance': importance})\n",
    "importance_df['Importance'] = importance_df['Importance'].abs()\n",
    "importance_df = importance_df.sort_values(by='Importance', ascending=False)\n",
    "\n",
    "# Mostrar la importancia de las características\n",
    "print(\"Importancia de las características:\")\n",
    "print(importance_df)\n",
    "\n",
    "# Guardar el mejor modelo en un archivo pickle\n",
    "best_model_filename = f'best_stroke_prediction_model_{best_model[0].replace(\" \", \"_\").lower()}.pkl'\n",
    "joblib.dump(best_pipeline, best_model_filename)\n",
    "print(f\"\\nBest model saved as: {best_model_filename}\")"
   ]
  },
  {
   "cell_type": "code",
   "execution_count": 63,
   "metadata": {},
   "outputs": [
    {
     "data": {
      "image/png": "[encoded data removed]",
      "text/plain": [
       "<Figure size 1000x600 with 1 Axes>"
      ]
     },
     "metadata": {},
     "output_type": "display_data"
    }
   ],
   "source": [
    "# Hacer una gráfica con la característica de importancias que hemos hecho en el paso anterior\n",
    "plt.figure(figsize=(10, 6))\n",
    "plt.bar(importance_df['Feature'], importance_df['Importance'], color='blue')\n",
    "plt.title('Feature Importance')\n",
    "plt.xlabel('Feature')\n",
    "plt.ylabel('Importance')\n",
    "plt.xticks(rotation=45)\n",
    "plt.tight_layout()\n",
    "plt.show()"
   ]
  }
 ],
 "metadata": {
  "kernelspec": {
   "display_name": "Kernel para proyecto de DataScientist",
   "language": "python",
   "name": "data_scientist"
  },
  "language_info": {
   "codemirror_mode": {
    "name": "ipython",
    "version": 3
   },
   "file_extension": ".py",
   "mimetype": "text/x-python",
   "name": "python",
   "nbconvert_exporter": "python",
   "pygments_lexer": "ipython3",
   "version": "3.12.1"
  }
 },
 "nbformat": 4,
 "nbformat_minor": 2
}
